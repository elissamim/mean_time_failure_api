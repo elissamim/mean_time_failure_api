{
 "cells": [
  {
   "cell_type": "code",
   "execution_count": 1,
   "id": "277ef416-df7e-48db-bf7e-a1d28f047277",
   "metadata": {},
   "outputs": [
    {
     "name": "stdout",
     "output_type": "stream",
     "text": [
      "Success! Here's the result:\n",
      "{'EQ_1': 44375.955613577, 'EQ_2': 50967.653614457, 'EQ_3': 48864.048991354, 'EQ_4': 50055.876106194, 'EQ_5': 47451.977464788}\n"
     ]
    }
   ],
   "source": [
    "import requests\n",
    "\n",
    "path=\"synthetic_data.csv\"\n",
    "start_date=\"2020-06-01\"\n",
    "end_date=\"2020-12-15\"\n",
    "\n",
    "response = requests.post(\n",
    "    \"http://127.0.0.1:8000/predict\",\n",
    "    json={\"path\": path, \n",
    "          \"start_date\":start_date, \n",
    "          \"end_date\":end_date}\n",
    ")\n",
    "\n",
    "if response.status_code == 200:\n",
    "    print(\"Success! Here's the result:\")\n",
    "    print(response.json())\n",
    "else:\n",
    "    print(f\"Request failed with status code: {response.status_code}\")\n",
    "    print(response.text)"
   ]
  }
 ],
 "metadata": {
  "kernelspec": {
   "display_name": "Python 3 (ipykernel)",
   "language": "python",
   "name": "python3"
  },
  "language_info": {
   "codemirror_mode": {
    "name": "ipython",
    "version": 3
   },
   "file_extension": ".py",
   "mimetype": "text/x-python",
   "name": "python",
   "nbconvert_exporter": "python",
   "pygments_lexer": "ipython3",
   "version": "3.12.9"
  }
 },
 "nbformat": 4,
 "nbformat_minor": 5
}
