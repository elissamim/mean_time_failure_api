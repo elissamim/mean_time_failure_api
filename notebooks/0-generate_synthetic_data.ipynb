{
 "cells": [
  {
   "cell_type": "code",
   "execution_count": 1,
   "id": "b0b0b4da-819f-44dc-a3e7-09ffdd12ba6f",
   "metadata": {},
   "outputs": [],
   "source": [
    "%load_ext autoreload\n",
    "%autoreload 2"
   ]
  },
  {
   "cell_type": "code",
   "execution_count": 2,
   "id": "dc058617-db75-4487-bcc7-aee215826d1c",
   "metadata": {},
   "outputs": [],
   "source": [
    "import pandas as pd\n",
    "from datetime import datetime\n",
    "import random\n",
    "import sys\n",
    "\n",
    "sys.path.append(\"../\")\n",
    "from utils import *"
   ]
  },
  {
   "cell_type": "code",
   "execution_count": 3,
   "id": "7621b8ae-aab8-479f-9f71-b58fec548332",
   "metadata": {},
   "outputs": [],
   "source": [
    "n_obs = 10000\n",
    "\n",
    "df_synthetic=(\n",
    "    pd.DataFrame({\n",
    "        \"timestamp\": [random_timestamp(datetime(2020,1,1),\n",
    "                                      datetime(2021,1,1)) for _ in range(n_obs)],\n",
    "        \"equipment_id\": [\"EQ_{}\".format(num)\n",
    "                        for num in random.choices(range(1, 6), \n",
    "                                                  k=n_obs)],\n",
    "        \"component_type\":[\"Composant_{}\".format(num) \n",
    "                          for num in random.choices(range(1, 6), \n",
    "                                                    k=n_obs)],\n",
    "        \"location\": random.choices([\"Gare de Lyon\", \"Opéra\", \"Saint-Lazare\", \"Montparnasse\"], \n",
    "                                   k=n_obs),\n",
    "        \"event_type\": random.choices([\"Failure\", \"Maintenance\", \"Warning\"], \n",
    "                                     k=n_obs)\n",
    "    })\n",
    ")\n",
    "    \n",
    "df_synthetic.to_csv(\"../synthetic_data.csv\")"
   ]
  }
 ],
 "metadata": {
  "kernelspec": {
   "display_name": "Python 3 (ipykernel)",
   "language": "python",
   "name": "python3"
  },
  "language_info": {
   "codemirror_mode": {
    "name": "ipython",
    "version": 3
   },
   "file_extension": ".py",
   "mimetype": "text/x-python",
   "name": "python",
   "nbconvert_exporter": "python",
   "pygments_lexer": "ipython3",
   "version": "3.12.9"
  }
 },
 "nbformat": 4,
 "nbformat_minor": 5
}
